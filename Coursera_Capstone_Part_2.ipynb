{
 "cells": [
  {
   "cell_type": "markdown",
   "metadata": {},
   "source": [
    "# Capstone Project Part 2"
   ]
  },
  {
   "cell_type": "markdown",
   "metadata": {},
   "source": [
    "## Code from part 1 to get the data"
   ]
  },
  {
   "cell_type": "code",
   "execution_count": 6,
   "metadata": {},
   "outputs": [],
   "source": [
    "import pandas as pd\n",
    "import numpy as np\n",
    "from bs4 import BeautifulSoup\n",
    "import requests"
   ]
  },
  {
   "cell_type": "code",
   "execution_count": 7,
   "metadata": {},
   "outputs": [],
   "source": [
    "def combine_string(a: pd.Series) -> str:\n",
    "    result: str = a.iloc[0]\n",
    "    for s in a[1:]:\n",
    "        result += ','\n",
    "        result += str(s)\n",
    "    return result\n",
    "\n",
    "web = requests.get(\"https://en.wikipedia.org/wiki/List_of_postal_codes_of_Canada:_M\")\n",
    "bs = BeautifulSoup(web.text, \"html.parser\")\n",
    "data_table = bs.find(\"table\")\n",
    "header = [h.text.strip() for h in data_table.find_all('th')]\n",
    "data = [[i.text.strip() for i in row.find_all('td')] for row in data_table.find_all('tr')]\n",
    "df = pd.DataFrame(data[1:])\n",
    "df.columns = header\n",
    "df.replace(\"Not assigned\", np.nan, inplace=True)\n",
    "df = df.dropna()\n",
    "df = df.groupby(by=['Postal Code', 'Borough']).agg(combine_string).reset_index()"
   ]
  },
  {
   "cell_type": "code",
   "execution_count": 8,
   "metadata": {},
   "outputs": [
    {
     "output_type": "execute_result",
     "data": {
      "text/plain": "  Postal Code      Borough                            Neighborhood\n0         M1B  Scarborough                          Malvern, Rouge\n1         M1C  Scarborough  Rouge Hill, Port Union, Highland Creek\n2         M1E  Scarborough       Guildwood, Morningside, West Hill\n3         M1G  Scarborough                                  Woburn\n4         M1H  Scarborough                               Cedarbrae",
      "text/html": "<div>\n<style scoped>\n    .dataframe tbody tr th:only-of-type {\n        vertical-align: middle;\n    }\n\n    .dataframe tbody tr th {\n        vertical-align: top;\n    }\n\n    .dataframe thead th {\n        text-align: right;\n    }\n</style>\n<table border=\"1\" class=\"dataframe\">\n  <thead>\n    <tr style=\"text-align: right;\">\n      <th></th>\n      <th>Postal Code</th>\n      <th>Borough</th>\n      <th>Neighborhood</th>\n    </tr>\n  </thead>\n  <tbody>\n    <tr>\n      <th>0</th>\n      <td>M1B</td>\n      <td>Scarborough</td>\n      <td>Malvern, Rouge</td>\n    </tr>\n    <tr>\n      <th>1</th>\n      <td>M1C</td>\n      <td>Scarborough</td>\n      <td>Rouge Hill, Port Union, Highland Creek</td>\n    </tr>\n    <tr>\n      <th>2</th>\n      <td>M1E</td>\n      <td>Scarborough</td>\n      <td>Guildwood, Morningside, West Hill</td>\n    </tr>\n    <tr>\n      <th>3</th>\n      <td>M1G</td>\n      <td>Scarborough</td>\n      <td>Woburn</td>\n    </tr>\n    <tr>\n      <th>4</th>\n      <td>M1H</td>\n      <td>Scarborough</td>\n      <td>Cedarbrae</td>\n    </tr>\n  </tbody>\n</table>\n</div>"
     },
     "metadata": {},
     "execution_count": 8
    }
   ],
   "source": [
    "df.head()"
   ]
  },
  {
   "cell_type": "markdown",
   "metadata": {},
   "source": [
    "### Part 2 get coordinates"
   ]
  },
  {
   "cell_type": "code",
   "execution_count": 9,
   "metadata": {},
   "outputs": [],
   "source": [
    "import geocoder\n",
    "\n",
    "def get_lat_lng(postal_code: str) -> tuple:\n",
    "    lat_lng_coords = None\n",
    "    while(lat_lng_coords is None):\n",
    "        g = geocoder.arcgis('{}, Toronto, Ontario'.format(postal_code))\n",
    "        lat_lng_coords = g.latlng\n",
    "    return lat_lng_coords"
   ]
  },
  {
   "cell_type": "markdown",
   "metadata": {},
   "source": [
    "Google is unavailable. Use arcgis."
   ]
  },
  {
   "cell_type": "code",
   "execution_count": 10,
   "metadata": {
    "tags": []
   },
   "outputs": [
    {
     "output_type": "stream",
     "name": "stdout",
     "text": "1/103 M1B finished.\n2/103 M1C finished.\n3/103 M1E finished.\n4/103 M1G finished.\n5/103 M1H finished.\n6/103 M1J finished.\n7/103 M1K finished.\n8/103 M1L finished.\n9/103 M1M finished.\n10/103 M1N finished.\n11/103 M1P finished.\n12/103 M1R finished.\n13/103 M1S finished.\n14/103 M1T finished.\n15/103 M1V finished.\n16/103 M1W finished.\n17/103 M1X finished.\n18/103 M2H finished.\n19/103 M2J finished.\n20/103 M2K finished.\n21/103 M2L finished.\n22/103 M2M finished.\n23/103 M2N finished.\n24/103 M2P finished.\n25/103 M2R finished.\n26/103 M3A finished.\n27/103 M3B finished.\n28/103 M3C finished.\n29/103 M3H finished.\n30/103 M3J finished.\n31/103 M3K finished.\n32/103 M3L finished.\n33/103 M3M finished.\n34/103 M3N finished.\n35/103 M4A finished.\n36/103 M4B finished.\n37/103 M4C finished.\n38/103 M4E finished.\n39/103 M4G finished.\n40/103 M4H finished.\n41/103 M4J finished.\n42/103 M4K finished.\n43/103 M4L finished.\n44/103 M4M finished.\n45/103 M4N finished.\n46/103 M4P finished.\n47/103 M4R finished.\n48/103 M4S finished.\n49/103 M4T finished.\n50/103 M4V finished.\n51/103 M4W finished.\n52/103 M4X finished.\n53/103 M4Y finished.\n54/103 M5A finished.\n55/103 M5B finished.\n56/103 M5C finished.\n57/103 M5E finished.\n58/103 M5G finished.\n59/103 M5H finished.\n60/103 M5J finished.\n61/103 M5K finished.\n62/103 M5L finished.\n63/103 M5M finished.\n64/103 M5N finished.\n65/103 M5P finished.\n66/103 M5R finished.\n67/103 M5S finished.\n68/103 M5T finished.\n69/103 M5V finished.\n70/103 M5W finished.\n71/103 M5X finished.\n72/103 M6A finished.\n73/103 M6B finished.\n74/103 M6C finished.\n75/103 M6E finished.\n76/103 M6G finished.\n77/103 M6H finished.\n78/103 M6J finished.\n79/103 M6K finished.\n80/103 M6L finished.\n81/103 M6M finished.\n82/103 M6N finished.\n83/103 M6P finished.\n84/103 M6R finished.\n85/103 M6S finished.\n86/103 M7A finished.\n87/103 M7R finished.\n88/103 M7Y finished.\n89/103 M8V finished.\n90/103 M8W finished.\n91/103 M8X finished.\n92/103 M8Y finished.\n93/103 M8Z finished.\n94/103 M9A finished.\n95/103 M9B finished.\n96/103 M9C finished.\n97/103 M9L finished.\n98/103 M9M finished.\n99/103 M9N finished.\n100/103 M9P finished.\n101/103 M9R finished.\n102/103 M9V finished.\n103/103 M9W finished.\n"
    }
   ],
   "source": [
    "latitude = []\n",
    "longitude = []\n",
    "count = 0\n",
    "for postal_code in df['Postal Code']:\n",
    "    count += 1\n",
    "    lat, lng = get_lat_lng(postal_code)\n",
    "    latitude.append(lat)\n",
    "    longitude.append(lng)\n",
    "    print(str(count) + '/' + str(df.shape[0]) + ' ' + postal_code + ' finished.')"
   ]
  },
  {
   "cell_type": "code",
   "execution_count": 11,
   "metadata": {},
   "outputs": [],
   "source": [
    "df.loc[:, 'Latitude'] = latitude\n",
    "df.loc[:, 'Longitude'] = longitude"
   ]
  },
  {
   "cell_type": "code",
   "execution_count": 12,
   "metadata": {},
   "outputs": [
    {
     "output_type": "execute_result",
     "data": {
      "text/plain": "  Postal Code      Borough                            Neighborhood  Latitude  \\\n0         M1B  Scarborough                          Malvern, Rouge  43.81153   \n1         M1C  Scarborough  Rouge Hill, Port Union, Highland Creek  43.78564   \n2         M1E  Scarborough       Guildwood, Morningside, West Hill  43.76575   \n3         M1G  Scarborough                                  Woburn  43.76820   \n4         M1H  Scarborough                               Cedarbrae  43.76969   \n\n   Longitude  \n0  -79.19552  \n1  -79.15871  \n2  -79.17520  \n3  -79.21761  \n4  -79.23944  ",
      "text/html": "<div>\n<style scoped>\n    .dataframe tbody tr th:only-of-type {\n        vertical-align: middle;\n    }\n\n    .dataframe tbody tr th {\n        vertical-align: top;\n    }\n\n    .dataframe thead th {\n        text-align: right;\n    }\n</style>\n<table border=\"1\" class=\"dataframe\">\n  <thead>\n    <tr style=\"text-align: right;\">\n      <th></th>\n      <th>Postal Code</th>\n      <th>Borough</th>\n      <th>Neighborhood</th>\n      <th>Latitude</th>\n      <th>Longitude</th>\n    </tr>\n  </thead>\n  <tbody>\n    <tr>\n      <th>0</th>\n      <td>M1B</td>\n      <td>Scarborough</td>\n      <td>Malvern, Rouge</td>\n      <td>43.81153</td>\n      <td>-79.19552</td>\n    </tr>\n    <tr>\n      <th>1</th>\n      <td>M1C</td>\n      <td>Scarborough</td>\n      <td>Rouge Hill, Port Union, Highland Creek</td>\n      <td>43.78564</td>\n      <td>-79.15871</td>\n    </tr>\n    <tr>\n      <th>2</th>\n      <td>M1E</td>\n      <td>Scarborough</td>\n      <td>Guildwood, Morningside, West Hill</td>\n      <td>43.76575</td>\n      <td>-79.17520</td>\n    </tr>\n    <tr>\n      <th>3</th>\n      <td>M1G</td>\n      <td>Scarborough</td>\n      <td>Woburn</td>\n      <td>43.76820</td>\n      <td>-79.21761</td>\n    </tr>\n    <tr>\n      <th>4</th>\n      <td>M1H</td>\n      <td>Scarborough</td>\n      <td>Cedarbrae</td>\n      <td>43.76969</td>\n      <td>-79.23944</td>\n    </tr>\n  </tbody>\n</table>\n</div>"
     },
     "metadata": {},
     "execution_count": 12
    }
   ],
   "source": [
    "df.head()"
   ]
  },
  {
   "cell_type": "code",
   "execution_count": 14,
   "metadata": {},
   "outputs": [],
   "source": [
    "df.to_csv('~/DataProjects/Coursera_Capstone/output.csv', index=False)"
   ]
  },
  {
   "cell_type": "code",
   "execution_count": null,
   "metadata": {},
   "outputs": [],
   "source": []
  }
 ],
 "metadata": {
  "kernelspec": {
   "display_name": "Python 3",
   "language": "python",
   "name": "python3"
  },
  "language_info": {
   "codemirror_mode": {
    "name": "ipython",
    "version": 3
   },
   "file_extension": ".py",
   "mimetype": "text/x-python",
   "name": "python",
   "nbconvert_exporter": "python",
   "pygments_lexer": "ipython3",
   "version": "3.7.6"
  }
 },
 "nbformat": 4,
 "nbformat_minor": 4
}