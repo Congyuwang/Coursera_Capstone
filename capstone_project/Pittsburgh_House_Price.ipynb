{
 "cells": [
  {
   "cell_type": "markdown",
   "metadata": {},
   "source": [
    "# Coursera Capstone"
   ]
  },
  {
   "cell_type": "markdown",
   "metadata": {},
   "source": [
    "This note book will be used by me for completing the coursera IBM data science capstone project."
   ]
  },
  {
   "cell_type": "code",
   "execution_count": 1,
   "metadata": {},
   "outputs": [],
   "source": [
    "import pandas as pd\n",
    "import numpy as np\n",
    "import folium"
   ]
  },
  {
   "cell_type": "code",
   "execution_count": 2,
   "metadata": {},
   "outputs": [],
   "source": [
    "property_sales_2014 = pd.read_csv(\"data/pgh_property_sales_2014_reduced.csv\")"
   ]
  },
  {
   "cell_type": "code",
   "execution_count": 3,
   "metadata": {},
   "outputs": [
    {
     "output_type": "execute_result",
     "data": {
      "text/plain": "          parcel.id                                     location    zip  \\\n0  0001C01661006700    320 FORT DUQUESNE BLVD STE 235 PITTSBURGH  15222   \n1  0001C01662009800   320 FORT DUQUESNE BLVD UNIT 9-H PITTSBURGH  15222   \n2  0001C01662010700  320 FORT DUQUESNE BLVD UNIT 10-G PITTSBURGH  15222   \n3  0001C01662012300  320 FORT DUQUESNE BLVD UNIT 12-C PITTSBURGH  15222   \n4  0001C01662012400  320 FORT DUQUESNE BLVD UNIT 12-D PITTSBURGH  15222   \n\n   longitude  latitude  sale.date  \\\n0  -80.00688  40.44284  30-JUN-14   \n1  -80.00688  40.44284  07-JUL-14   \n2  -80.00688  40.44284  17-JUL-14   \n3  -80.00688  40.44284  11-APR-14   \n4  -80.00688  40.44284  11-APR-14   \n\n                                         description              street  \\\n0  DICKERSON INVESTMENTS COMPANY LP PGH BURGERS A...  Fort Duquesne Blvd   \n1                   MAZZEI NANCY M BARONE ALVIN J JR  Fort Duquesne Blvd   \n2                       FARGO ERIN L ROZZI CHARLOTTE  Fort Duquesne Blvd   \n3  GLOVERFIELD PROPERTIES LLC WHITE GEORGE R & KA...  Fort Duquesne Blvd   \n4  GLOVERFIELD PROPERTIES LLC WHITE GEORGE R & KA...  Fort Duquesne Blvd   \n\n        neighborhood     price  \n0  Cultural District   37500.0  \n1  Cultural District  179600.0  \n2  Cultural District  145000.0  \n3  Cultural District  254000.0  \n4  Cultural District  198000.0  ",
      "text/html": "<div>\n<style scoped>\n    .dataframe tbody tr th:only-of-type {\n        vertical-align: middle;\n    }\n\n    .dataframe tbody tr th {\n        vertical-align: top;\n    }\n\n    .dataframe thead th {\n        text-align: right;\n    }\n</style>\n<table border=\"1\" class=\"dataframe\">\n  <thead>\n    <tr style=\"text-align: right;\">\n      <th></th>\n      <th>parcel.id</th>\n      <th>location</th>\n      <th>zip</th>\n      <th>longitude</th>\n      <th>latitude</th>\n      <th>sale.date</th>\n      <th>description</th>\n      <th>street</th>\n      <th>neighborhood</th>\n      <th>price</th>\n    </tr>\n  </thead>\n  <tbody>\n    <tr>\n      <th>0</th>\n      <td>0001C01661006700</td>\n      <td>320 FORT DUQUESNE BLVD STE 235 PITTSBURGH</td>\n      <td>15222</td>\n      <td>-80.00688</td>\n      <td>40.44284</td>\n      <td>30-JUN-14</td>\n      <td>DICKERSON INVESTMENTS COMPANY LP PGH BURGERS A...</td>\n      <td>Fort Duquesne Blvd</td>\n      <td>Cultural District</td>\n      <td>37500.0</td>\n    </tr>\n    <tr>\n      <th>1</th>\n      <td>0001C01662009800</td>\n      <td>320 FORT DUQUESNE BLVD UNIT 9-H PITTSBURGH</td>\n      <td>15222</td>\n      <td>-80.00688</td>\n      <td>40.44284</td>\n      <td>07-JUL-14</td>\n      <td>MAZZEI NANCY M BARONE ALVIN J JR</td>\n      <td>Fort Duquesne Blvd</td>\n      <td>Cultural District</td>\n      <td>179600.0</td>\n    </tr>\n    <tr>\n      <th>2</th>\n      <td>0001C01662010700</td>\n      <td>320 FORT DUQUESNE BLVD UNIT 10-G PITTSBURGH</td>\n      <td>15222</td>\n      <td>-80.00688</td>\n      <td>40.44284</td>\n      <td>17-JUL-14</td>\n      <td>FARGO ERIN L ROZZI CHARLOTTE</td>\n      <td>Fort Duquesne Blvd</td>\n      <td>Cultural District</td>\n      <td>145000.0</td>\n    </tr>\n    <tr>\n      <th>3</th>\n      <td>0001C01662012300</td>\n      <td>320 FORT DUQUESNE BLVD UNIT 12-C PITTSBURGH</td>\n      <td>15222</td>\n      <td>-80.00688</td>\n      <td>40.44284</td>\n      <td>11-APR-14</td>\n      <td>GLOVERFIELD PROPERTIES LLC WHITE GEORGE R &amp; KA...</td>\n      <td>Fort Duquesne Blvd</td>\n      <td>Cultural District</td>\n      <td>254000.0</td>\n    </tr>\n    <tr>\n      <th>4</th>\n      <td>0001C01662012400</td>\n      <td>320 FORT DUQUESNE BLVD UNIT 12-D PITTSBURGH</td>\n      <td>15222</td>\n      <td>-80.00688</td>\n      <td>40.44284</td>\n      <td>11-APR-14</td>\n      <td>GLOVERFIELD PROPERTIES LLC WHITE GEORGE R &amp; KA...</td>\n      <td>Fort Duquesne Blvd</td>\n      <td>Cultural District</td>\n      <td>198000.0</td>\n    </tr>\n  </tbody>\n</table>\n</div>"
     },
     "metadata": {},
     "execution_count": 3
    }
   ],
   "source": [
    "property_sales_2014.head()"
   ]
  },
  {
   "cell_type": "code",
   "execution_count": null,
   "metadata": {},
   "outputs": [],
   "source": []
  }
 ],
 "metadata": {
  "kernelspec": {
   "display_name": "Python 3",
   "language": "python",
   "name": "python3"
  },
  "language_info": {
   "codemirror_mode": {
    "name": "ipython",
    "version": 3
   },
   "file_extension": ".py",
   "mimetype": "text/x-python",
   "name": "python",
   "nbconvert_exporter": "python",
   "pygments_lexer": "ipython3",
   "version": "3.7.6"
  }
 },
 "nbformat": 4,
 "nbformat_minor": 4
}