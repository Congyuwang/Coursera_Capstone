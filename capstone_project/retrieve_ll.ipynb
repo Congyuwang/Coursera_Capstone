{
 "metadata": {
  "language_info": {
   "codemirror_mode": {
    "name": "ipython",
    "version": 3
   },
   "file_extension": ".py",
   "mimetype": "text/x-python",
   "name": "python",
   "nbconvert_exporter": "python",
   "pygments_lexer": "ipython3",
   "version": 3
  },
  "orig_nbformat": 2,
  "kernelspec": {
   "name": "python_defaultSpec_1595088190075",
   "display_name": "Python 3.7.7 64-bit ('base': conda)"
  }
 },
 "nbformat": 4,
 "nbformat_minor": 2,
 "cells": [
  {
   "cell_type": "code",
   "execution_count": 1,
   "metadata": {},
   "outputs": [],
   "source": [
    "import json"
   ]
  },
  {
   "cell_type": "code",
   "execution_count": 2,
   "metadata": {},
   "outputs": [],
   "source": [
    "import pandas as pd\n",
    "d_2016 = pd.read_csv('data/2016.csv')\n",
    "d_2017 = pd.read_csv('data/2017.csv')\n",
    "d_2018 = pd.read_csv('data/2018.csv')\n",
    "d_2019 = pd.read_csv('data/2019.csv')"
   ]
  },
  {
   "cell_type": "code",
   "execution_count": 3,
   "metadata": {},
   "outputs": [],
   "source": [
    "dat = pd.concat([d_2016, d_2017, d_2018, d_2019])"
   ]
  },
  {
   "cell_type": "code",
   "execution_count": 4,
   "metadata": {},
   "outputs": [
    {
     "output_type": "execute_result",
     "data": {
      "text/plain": "              PARID            MUNICIPALITY  \\\n0  0004N00036000000  19th Ward - PITTSBURGH   \n1  0004N00071000000  19th Ward - PITTSBURGH   \n2  0004N00071000000  19th Ward - PITTSBURGH   \n3  0004N00108000000  19th Ward - PITTSBURGH   \n4  0004N00108000000  19th Ward - PITTSBURGH   \n\n                         PROP_LOCATION  \\\n0  200 DILWORTH ST PITTSBURGH PA 15211   \n1  221 DILWORTH ST PITTSBURGH PA 15211   \n2  221 DILWORTH ST PITTSBURGH PA 15211   \n3       14 KUHN ST PITTSBURGH PA 15211   \n4       14 KUHN ST PITTSBURGH PA 15211   \n\n                                       BUYER  \\\n0                                MORGAN RYAN   \n1                       WELLS FARGO BANK N A   \n2                  KEY POINT REAL ESTATE LLC   \n3                                 FANNIE MAE   \n4  PITTSBURGH HOUSING DEVELOPMENTCORPORATION   \n\n                                SELLER   SALE_DATE RECORDED_DATE   PRICE  \\\n0  BOLEK RONALD J &amp; KATHLEEN A (W)   1/11/2016     1/13/2016  132500   \n1                    FRIEDRICH WILLIAM   9/22/2016     9/22/2016    5478   \n2                 WELLS FARGO BANK N A  12/01/2016    12/21/2016   79719   \n3  OSSELBORN DONALD H &amp; MARY E (W)   6/20/2016     6/23/2016    1859   \n4                           FANNIE MAE   8/10/2016     8/16/2016   65000   \n\n    BOOK PAGE SALE_VALUE                        VALUE_DESC SALE_TYPE  \\\n0  16256  122         36     QUIT CLAIM / SPECIAL WARRANTY    &nbsp;   \n1  16545  593         99  CORRECTIVE DEED / DUPLICATE SALE    &nbsp;   \n2  16646  436         36     QUIT CLAIM / SPECIAL WARRANTY    &nbsp;   \n3  16434  517          1                      SHERIFF SALE    &nbsp;   \n4  16502   44         GV                   GOVERNMENT SALE    &nbsp;   \n\n  TYPE_DESC   NOTE4  SALEKEY  CNTR  Unnamed: 17  \n0    &nbsp;  &nbsp;  1283629     1          NaN  \n1    &nbsp;  &nbsp;  1304038     1          NaN  \n2    &nbsp;  &nbsp;  1319971     2          NaN  \n3    &nbsp;  &nbsp;  1299951     1          NaN  \n4    &nbsp;  &nbsp;  1306141     2          NaN  ",
      "text/html": "<div>\n<style scoped>\n    .dataframe tbody tr th:only-of-type {\n        vertical-align: middle;\n    }\n\n    .dataframe tbody tr th {\n        vertical-align: top;\n    }\n\n    .dataframe thead th {\n        text-align: right;\n    }\n</style>\n<table border=\"1\" class=\"dataframe\">\n  <thead>\n    <tr style=\"text-align: right;\">\n      <th></th>\n      <th>PARID</th>\n      <th>MUNICIPALITY</th>\n      <th>PROP_LOCATION</th>\n      <th>BUYER</th>\n      <th>SELLER</th>\n      <th>SALE_DATE</th>\n      <th>RECORDED_DATE</th>\n      <th>PRICE</th>\n      <th>BOOK</th>\n      <th>PAGE</th>\n      <th>SALE_VALUE</th>\n      <th>VALUE_DESC</th>\n      <th>SALE_TYPE</th>\n      <th>TYPE_DESC</th>\n      <th>NOTE4</th>\n      <th>SALEKEY</th>\n      <th>CNTR</th>\n      <th>Unnamed: 17</th>\n    </tr>\n  </thead>\n  <tbody>\n    <tr>\n      <th>0</th>\n      <td>0004N00036000000</td>\n      <td>19th Ward - PITTSBURGH</td>\n      <td>200 DILWORTH ST PITTSBURGH PA 15211</td>\n      <td>MORGAN RYAN</td>\n      <td>BOLEK RONALD J &amp;amp; KATHLEEN A (W)</td>\n      <td>1/11/2016</td>\n      <td>1/13/2016</td>\n      <td>132500</td>\n      <td>16256</td>\n      <td>122</td>\n      <td>36</td>\n      <td>QUIT CLAIM / SPECIAL WARRANTY</td>\n      <td>&amp;nbsp;</td>\n      <td>&amp;nbsp;</td>\n      <td>&amp;nbsp;</td>\n      <td>1283629</td>\n      <td>1</td>\n      <td>NaN</td>\n    </tr>\n    <tr>\n      <th>1</th>\n      <td>0004N00071000000</td>\n      <td>19th Ward - PITTSBURGH</td>\n      <td>221 DILWORTH ST PITTSBURGH PA 15211</td>\n      <td>WELLS FARGO BANK N A</td>\n      <td>FRIEDRICH WILLIAM</td>\n      <td>9/22/2016</td>\n      <td>9/22/2016</td>\n      <td>5478</td>\n      <td>16545</td>\n      <td>593</td>\n      <td>99</td>\n      <td>CORRECTIVE DEED / DUPLICATE SALE</td>\n      <td>&amp;nbsp;</td>\n      <td>&amp;nbsp;</td>\n      <td>&amp;nbsp;</td>\n      <td>1304038</td>\n      <td>1</td>\n      <td>NaN</td>\n    </tr>\n    <tr>\n      <th>2</th>\n      <td>0004N00071000000</td>\n      <td>19th Ward - PITTSBURGH</td>\n      <td>221 DILWORTH ST PITTSBURGH PA 15211</td>\n      <td>KEY POINT REAL ESTATE LLC</td>\n      <td>WELLS FARGO BANK N A</td>\n      <td>12/01/2016</td>\n      <td>12/21/2016</td>\n      <td>79719</td>\n      <td>16646</td>\n      <td>436</td>\n      <td>36</td>\n      <td>QUIT CLAIM / SPECIAL WARRANTY</td>\n      <td>&amp;nbsp;</td>\n      <td>&amp;nbsp;</td>\n      <td>&amp;nbsp;</td>\n      <td>1319971</td>\n      <td>2</td>\n      <td>NaN</td>\n    </tr>\n    <tr>\n      <th>3</th>\n      <td>0004N00108000000</td>\n      <td>19th Ward - PITTSBURGH</td>\n      <td>14 KUHN ST PITTSBURGH PA 15211</td>\n      <td>FANNIE MAE</td>\n      <td>OSSELBORN DONALD H &amp;amp; MARY E (W)</td>\n      <td>6/20/2016</td>\n      <td>6/23/2016</td>\n      <td>1859</td>\n      <td>16434</td>\n      <td>517</td>\n      <td>1</td>\n      <td>SHERIFF SALE</td>\n      <td>&amp;nbsp;</td>\n      <td>&amp;nbsp;</td>\n      <td>&amp;nbsp;</td>\n      <td>1299951</td>\n      <td>1</td>\n      <td>NaN</td>\n    </tr>\n    <tr>\n      <th>4</th>\n      <td>0004N00108000000</td>\n      <td>19th Ward - PITTSBURGH</td>\n      <td>14 KUHN ST PITTSBURGH PA 15211</td>\n      <td>PITTSBURGH HOUSING DEVELOPMENTCORPORATION</td>\n      <td>FANNIE MAE</td>\n      <td>8/10/2016</td>\n      <td>8/16/2016</td>\n      <td>65000</td>\n      <td>16502</td>\n      <td>44</td>\n      <td>GV</td>\n      <td>GOVERNMENT SALE</td>\n      <td>&amp;nbsp;</td>\n      <td>&amp;nbsp;</td>\n      <td>&amp;nbsp;</td>\n      <td>1306141</td>\n      <td>2</td>\n      <td>NaN</td>\n    </tr>\n  </tbody>\n</table>\n</div>"
     },
     "metadata": {},
     "execution_count": 4
    }
   ],
   "source": [
    "dat.head()"
   ]
  },
  {
   "cell_type": "code",
   "execution_count": 5,
   "metadata": {},
   "outputs": [
    {
     "output_type": "execute_result",
     "data": {
      "text/plain": "(142555, 18)"
     },
     "metadata": {},
     "execution_count": 5
    }
   ],
   "source": [
    "dat.shape"
   ]
  },
  {
   "cell_type": "code",
   "execution_count": 6,
   "metadata": {},
   "outputs": [
    {
     "output_type": "execute_result",
     "data": {
      "text/plain": "&nbsp;    141777\n3            528\n2            226\n1             24\nName: SALE_TYPE, dtype: int64"
     },
     "metadata": {},
     "execution_count": 6
    }
   ],
   "source": [
    "dat['SALE_TYPE'].value_counts()"
   ]
  },
  {
   "cell_type": "code",
   "execution_count": 7,
   "metadata": {},
   "outputs": [
    {
     "output_type": "execute_result",
     "data": {
      "text/plain": "119159"
     },
     "metadata": {},
     "execution_count": 7
    }
   ],
   "source": [
    "len(dat['PARID'].unique())"
   ]
  },
  {
   "cell_type": "code",
   "execution_count": 8,
   "metadata": {},
   "outputs": [
    {
     "output_type": "execute_result",
     "data": {
      "text/plain": "False    126706\nTrue      15849\nName: VALUE_DESC, dtype: int64"
     },
     "metadata": {},
     "execution_count": 8
    }
   ],
   "source": [
    "pd.Series(dat['VALUE_DESC'] == \"VALID SALE\").value_counts()"
   ]
  },
  {
   "cell_type": "code",
   "execution_count": 9,
   "metadata": {},
   "outputs": [],
   "source": [
    "cleaned_dat = dat.loc[(dat['VALUE_DESC'] == \"VALID SALE\"), :]"
   ]
  },
  {
   "cell_type": "code",
   "execution_count": 10,
   "metadata": {},
   "outputs": [],
   "source": [
    "addresses = cleaned_dat[\"PROP_LOCATION\"].unique()"
   ]
  },
  {
   "cell_type": "code",
   "execution_count": 17,
   "metadata": {},
   "outputs": [],
   "source": [
    "pd.DataFrame(addresses).to_csv('data/sales_addresses.csv', index=False, header=False)"
   ]
  },
  {
   "cell_type": "code",
   "execution_count": null,
   "metadata": {},
   "outputs": [],
   "source": []
  }
 ]
}